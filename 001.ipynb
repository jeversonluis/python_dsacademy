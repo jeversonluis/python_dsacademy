{
  "nbformat": 4,
  "nbformat_minor": 0,
  "metadata": {
    "colab": {
      "name": "001.ipynb",
      "provenance": [],
      "collapsed_sections": [],
      "authorship_tag": "ABX9TyMUoX3nXoswpDJ4jXtmBg1q",
      "include_colab_link": true
    },
    "kernelspec": {
      "name": "python3",
      "display_name": "Python 3"
    }
  },
  "cells": [
    {
      "cell_type": "markdown",
      "metadata": {
        "id": "view-in-github",
        "colab_type": "text"
      },
      "source": [
        "<a href=\"https://colab.research.google.com/github/jeversonluis/python_dsacademy/blob/main/001.ipynb\" target=\"_parent\"><img src=\"https://colab.research.google.com/assets/colab-badge.svg\" alt=\"Open In Colab\"/></a>"
      ]
    },
    {
      "cell_type": "markdown",
      "metadata": {
        "id": "wJMF7zYCWFC6"
      },
      "source": [
        "**Exercise 1** - Print the numbers from 1 to 10 on the screen. Use a list to store the numbers."
      ]
    },
    {
      "cell_type": "code",
      "metadata": {
        "colab": {
          "base_uri": "https://localhost:8080/"
        },
        "id": "IGTPzsrwygbL",
        "outputId": "5b6c46c8-071f-4ace-80ff-942c18782a3a"
      },
      "source": [
        "my_list = []\n",
        "\n",
        "for i in range(1,11):\n",
        "  print(i)\n",
        "  my_list.append(i)\n",
        "  \n",
        "print(my_list)"
      ],
      "execution_count": 36,
      "outputs": [
        {
          "output_type": "stream",
          "text": [
            "1\n",
            "2\n",
            "3\n",
            "4\n",
            "5\n",
            "6\n",
            "7\n",
            "8\n",
            "9\n",
            "10\n",
            "[1, 2, 3, 4, 5, 6, 7, 8, 9, 10]\n"
          ],
          "name": "stdout"
        }
      ]
    },
    {
      "cell_type": "markdown",
      "metadata": {
        "id": "23_XkdLAaTPt"
      },
      "source": [
        "**Exercise 2** - Create a list of 5 objects and print on the screen."
      ]
    },
    {
      "cell_type": "code",
      "metadata": {
        "colab": {
          "base_uri": "https://localhost:8080/"
        },
        "id": "HEM0ize6csIX",
        "outputId": "9f55bc01-c89a-4e5e-af9f-759499dc9c8e"
      },
      "source": [
        "new_list = [\"orange\", 25, [1,2,3], 10.24, True]\n",
        "print(new_list)"
      ],
      "execution_count": 37,
      "outputs": [
        {
          "output_type": "stream",
          "text": [
            "['orange', 25, [1, 2, 3], 10.24, True]\n"
          ],
          "name": "stdout"
        }
      ]
    },
    {
      "cell_type": "markdown",
      "metadata": {
        "id": "CK7WcgyBdwL2"
      },
      "source": [
        "**Exercise 3** - Create two strings and concatenate both into a third string \""
      ]
    },
    {
      "cell_type": "code",
      "metadata": {
        "colab": {
          "base_uri": "https://localhost:8080/"
        },
        "id": "owf1eczmd4qE",
        "outputId": "75a0cd4c-220a-4b7b-90eb-4109147557ad"
      },
      "source": [
        "a = \"High\"\n",
        "b = \"Building\"\n",
        "c = a +\" \"+ b\n",
        "print(c)"
      ],
      "execution_count": 38,
      "outputs": [
        {
          "output_type": "stream",
          "text": [
            "High Building\n"
          ],
          "name": "stdout"
        }
      ]
    },
    {
      "cell_type": "markdown",
      "metadata": {
        "id": "jHNJ1ua3fdJF"
      },
      "source": [
        "**Exercise 4** - Create a tuple with the following elements: 1, 2, 2, 3, 4, 4, 4, 5 and then use the tuple object's count function to check how many times the number 4 appears in the tuple."
      ]
    },
    {
      "cell_type": "code",
      "metadata": {
        "colab": {
          "base_uri": "https://localhost:8080/"
        },
        "id": "aYF1_ymcfgcE",
        "outputId": "15f21be0-1327-497e-c2f4-53558634aec0"
      },
      "source": [
        "t = (1,2,2,3,4,4,4,5)\n",
        "t.count(4)"
      ],
      "execution_count": 39,
      "outputs": [
        {
          "output_type": "execute_result",
          "data": {
            "text/plain": [
              "3"
            ]
          },
          "metadata": {
            "tags": []
          },
          "execution_count": 39
        }
      ]
    },
    {
      "cell_type": "markdown",
      "metadata": {
        "id": "9YDf-2dzgWWy"
      },
      "source": [
        "**Exercise 5** - Create an empty dictionary and print on the screen."
      ]
    },
    {
      "cell_type": "code",
      "metadata": {
        "colab": {
          "base_uri": "https://localhost:8080/"
        },
        "id": "-dAk0EO_gudt",
        "outputId": "18b04a2c-05fe-4516-aff0-e3cde0ee9608"
      },
      "source": [
        "d = {}\n",
        "print(d)"
      ],
      "execution_count": 40,
      "outputs": [
        {
          "output_type": "stream",
          "text": [
            "{}\n"
          ],
          "name": "stdout"
        }
      ]
    },
    {
      "cell_type": "markdown",
      "metadata": {
        "id": "ICa17nRbkyNI"
      },
      "source": [
        "**Exercise 6** - Create a dictionary with 3 keys and 3 values and print on the screen."
      ]
    },
    {
      "cell_type": "code",
      "metadata": {
        "colab": {
          "base_uri": "https://localhost:8080/"
        },
        "id": "4IVxBokOhMt2",
        "outputId": "99897c09-3498-4234-b262-3be1fb262faa"
      },
      "source": [
        "dc = {\"Hilary\": 24, \"Ashley\": 27, \"Stephany\": 20}\n",
        "print(dc)"
      ],
      "execution_count": 42,
      "outputs": [
        {
          "output_type": "stream",
          "text": [
            "{'Hilary': 24, 'Ashley': 27, 'Stephany': 20}\n"
          ],
          "name": "stdout"
        }
      ]
    },
    {
      "cell_type": "markdown",
      "metadata": {
        "id": "WwYfpI84jfHR"
      },
      "source": [
        "**Exercise 7** - Add one more element to the dictionary created in the previous exercise and print on the screen."
      ]
    },
    {
      "cell_type": "code",
      "metadata": {
        "colab": {
          "base_uri": "https://localhost:8080/"
        },
        "id": "e5J4TAFfkRur",
        "outputId": "134b4f28-0525-4801-8ccd-4c4017d2e637"
      },
      "source": [
        "dc[\"Melanie\"] = 22\n",
        "print(dc)"
      ],
      "execution_count": 47,
      "outputs": [
        {
          "output_type": "stream",
          "text": [
            "{'Hilary': 24, 'Ashley': 27, 'Stephany': 20, 'Melanie': 22}\n"
          ],
          "name": "stdout"
        }
      ]
    },
    {
      "cell_type": "markdown",
      "metadata": {
        "id": "m-4bMcOzoL5Y"
      },
      "source": [
        "**Exercise 8** - Create a dictionary with 3 keys and 3 values. One of the values must be a list of 2 numeric elements. Print the dictionary on the screen."
      ]
    },
    {
      "cell_type": "code",
      "metadata": {
        "colab": {
          "base_uri": "https://localhost:8080/"
        },
        "id": "g_rzkFkso5qr",
        "outputId": "95c022bb-7ccc-460e-a478-8dd19b7f3779"
      },
      "source": [
        "di = {\"ball\": 15, \"pool\": 45, \"bicycle\": [23, 42]}\n",
        "print(di)"
      ],
      "execution_count": 48,
      "outputs": [
        {
          "output_type": "stream",
          "text": [
            "{'ball': 15, 'pool': 45, 'bicycle': [23, 42]}\n"
          ],
          "name": "stdout"
        }
      ]
    },
    {
      "cell_type": "markdown",
      "metadata": {
        "id": "Oa5nkE-jpyYj"
      },
      "source": [
        "**Exercise 9** - Create a list of 4 elements. The first element must be a string, the second a tuple of 2 elements, the third a dictionary with 2 keys and 2 values and the fourth element a value of type float. Print the list on the screen."
      ]
    },
    {
      "cell_type": "code",
      "metadata": {
        "colab": {
          "base_uri": "https://localhost:8080/"
        },
        "id": "PvGtR70M4OiE",
        "outputId": "26cf0376-b31b-438a-891d-77bd50a598d0"
      },
      "source": [
        "n_list = [\"orange\", (10, 20), {\"Patrick\": 25, \"Franklin\": 30}, 48.5]\n",
        "print(n_list)"
      ],
      "execution_count": 50,
      "outputs": [
        {
          "output_type": "stream",
          "text": [
            "['orange', (10, 20), {'Patrick': 25, 'Franklin': 30}, 48.5]\n"
          ],
          "name": "stdout"
        }
      ]
    },
    {
      "cell_type": "markdown",
      "metadata": {
        "id": "XIN9gf7p_f8Z"
      },
      "source": [
        "**Exercise 10** - Consider the following string => \"Data scientist is the sexiest professional of the 21st century\". Print on the screen only the characters from position 1 to 17."
      ]
    },
    {
      "cell_type": "code",
      "metadata": {
        "colab": {
          "base_uri": "https://localhost:8080/"
        },
        "id": "RgBRwCtM_kBc",
        "outputId": "d6e85245-cb76-47cc-91df-08d0dfd22707"
      },
      "source": [
        "st = \"Data scientist is the sexiest professional of the 21st century\"\n",
        "print(st[0:17])"
      ],
      "execution_count": 54,
      "outputs": [
        {
          "output_type": "stream",
          "text": [
            "Data scientist is\n"
          ],
          "name": "stdout"
        }
      ]
    }
  ]
}