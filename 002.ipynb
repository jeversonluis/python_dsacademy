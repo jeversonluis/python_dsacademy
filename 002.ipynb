{
  "nbformat": 4,
  "nbformat_minor": 0,
  "metadata": {
    "colab": {
      "name": "002.ipynb",
      "provenance": [],
      "collapsed_sections": [],
      "authorship_tag": "ABX9TyNvqrQVrjJ3X0DbvWVb8WP+",
      "include_colab_link": true
    },
    "kernelspec": {
      "name": "python3",
      "display_name": "Python 3"
    }
  },
  "cells": [
    {
      "cell_type": "markdown",
      "metadata": {
        "id": "view-in-github",
        "colab_type": "text"
      },
      "source": [
        "<a href=\"https://colab.research.google.com/github/jeversonluis/python_dsacademy/blob/main/002.ipynb\" target=\"_parent\"><img src=\"https://colab.research.google.com/assets/colab-badge.svg\" alt=\"Open In Colab\"/></a>"
      ]
    },
    {
      "cell_type": "markdown",
      "metadata": {
        "id": "3C1tEx2Wi8x5"
      },
      "source": [
        "**Exercise 1** - Create a structure that asks the user what day of the week. If the day is equal to Sunday or equal to Saturday, print on the screen (\"Today is a rest day\"), otherwise print on the screen (\"You need to work!\")."
      ]
    },
    {
      "cell_type": "code",
      "metadata": {
        "colab": {
          "base_uri": "https://localhost:8080/"
        },
        "id": "d_x5kPkIU0C-",
        "outputId": "7434a491-74c8-4664-acdd-b5553ae71fd9"
      },
      "source": [
        "day = input(\"Enter the day of the week: \")\n",
        "\n",
        "# lower() function turns all input to lowercase\n",
        "if day.lower() == \"saturday\" or day.lower() == \"sunday\":\n",
        "  print(\"Today is a rest day\")\n",
        "else:\n",
        "  print(\"You need to work!\")"
      ],
      "execution_count": 29,
      "outputs": [
        {
          "output_type": "stream",
          "text": [
            "Enter the day of the week: Sunday\n",
            "Today is a rest day\n"
          ],
          "name": "stdout"
        }
      ]
    },
    {
      "cell_type": "markdown",
      "metadata": {
        "id": "sIIo52JEokVV"
      },
      "source": [
        "**Exercise 2** - Create a list of 5 fruits and check if the 'Strawberry' fruit is part of the list \"."
      ]
    },
    {
      "cell_type": "code",
      "metadata": {
        "colab": {
          "base_uri": "https://localhost:8080/"
        },
        "id": "G96zqciEpA5C",
        "outputId": "73bf872e-1f26-4d3e-d541-7a62791659c2"
      },
      "source": [
        "fruit_list = [\"apple\", \"lemon\", \"strawberry\", \"orange\", \"grape\"]\n",
        "\n",
        "for i in fruit_list:\n",
        "  if i == \"strawberry\":\n",
        "    print(\"Strawberry is on the fruit list\")"
      ],
      "execution_count": 35,
      "outputs": [
        {
          "output_type": "stream",
          "text": [
            "Strawberry is on the fruit list\n"
          ],
          "name": "stdout"
        }
      ]
    },
    {
      "cell_type": "markdown",
      "metadata": {
        "id": "epK9oAK_xkzx"
      },
      "source": [
        "**Exercise 3** - Create a tuple of 4 elements, multiply each element of the tuple by 2 and save the results in a list."
      ]
    },
    {
      "cell_type": "code",
      "metadata": {
        "colab": {
          "base_uri": "https://localhost:8080/"
        },
        "id": "YM3Sl3MhxlCl",
        "outputId": "e870cc84-b0e7-4cfc-ae8b-69021f419064"
      },
      "source": [
        "tu = (10, 5, 4, 6, 2)\n",
        "li = []\n",
        "\n",
        "for i in tu:\n",
        "  n = i * 2\n",
        "  li.append(n)\n",
        "  \n",
        "print(li)"
      ],
      "execution_count": 45,
      "outputs": [
        {
          "output_type": "stream",
          "text": [
            "[20, 10, 8, 12, 4]\n"
          ],
          "name": "stdout"
        }
      ]
    },
    {
      "cell_type": "markdown",
      "metadata": {
        "id": "wKUVuVQSgqNa"
      },
      "source": [
        "**Exercise 4** - Create a sequence of even numbers between 100 and 150 and print on the screen."
      ]
    },
    {
      "cell_type": "code",
      "metadata": {
        "colab": {
          "base_uri": "https://localhost:8080/"
        },
        "id": "rTV6uKgXgqfG",
        "outputId": "fc78b6a2-a01e-4ad0-d93d-8a26f08b5ca1"
      },
      "source": [
        "for i in range(100,151, 2):\n",
        "  print(i)"
      ],
      "execution_count": 3,
      "outputs": [
        {
          "output_type": "stream",
          "text": [
            "100\n",
            "102\n",
            "104\n",
            "106\n",
            "108\n",
            "110\n",
            "112\n",
            "114\n",
            "116\n",
            "118\n",
            "120\n",
            "122\n",
            "124\n",
            "126\n",
            "128\n",
            "130\n",
            "132\n",
            "134\n",
            "136\n",
            "138\n",
            "140\n",
            "142\n",
            "144\n",
            "146\n",
            "148\n",
            "150\n"
          ],
          "name": "stdout"
        }
      ]
    },
    {
      "cell_type": "markdown",
      "metadata": {
        "id": "55xf6gvSiVni"
      },
      "source": [
        "**Exercise 5** - Create a variable called temperature and assign the value 40. As long as the temperature is greater than 35, print the temperatures on the screen."
      ]
    },
    {
      "cell_type": "code",
      "metadata": {
        "colab": {
          "base_uri": "https://localhost:8080/"
        },
        "id": "Th1FrMCXiWAh",
        "outputId": "8749fea0-803a-48bf-8a89-028f3dad41b0"
      },
      "source": [
        "temp = 40\n",
        "\n",
        "while temp > 35:\n",
        "  print(temp)\n",
        "  temp -= 1"
      ],
      "execution_count": 4,
      "outputs": [
        {
          "output_type": "stream",
          "text": [
            "40\n",
            "39\n",
            "38\n",
            "37\n",
            "36\n"
          ],
          "name": "stdout"
        }
      ]
    },
    {
      "cell_type": "markdown",
      "metadata": {
        "id": "YEpZvFCkkhSz"
      },
      "source": [
        "**Exercise 6** - Create a variable called counter = 0. While the counter is less than 100, print the values on the screen, but when the value 23 is found, interrupt the program execution."
      ]
    },
    {
      "cell_type": "code",
      "metadata": {
        "colab": {
          "base_uri": "https://localhost:8080/"
        },
        "id": "YG8MhJLqkhqk",
        "outputId": "a8b4219c-a668-4bac-ee4b-b4a760528797"
      },
      "source": [
        "count = 0\n",
        "\n",
        "while count < 100:\n",
        "  if count == 23:\n",
        "    break\n",
        "  print(count)\n",
        "  count += 1"
      ],
      "execution_count": 8,
      "outputs": [
        {
          "output_type": "stream",
          "text": [
            "0\n",
            "1\n",
            "2\n",
            "3\n",
            "4\n",
            "5\n",
            "6\n",
            "7\n",
            "8\n",
            "9\n",
            "10\n",
            "11\n",
            "12\n",
            "13\n",
            "14\n",
            "15\n",
            "16\n",
            "17\n",
            "18\n",
            "19\n",
            "20\n",
            "21\n",
            "22\n"
          ],
          "name": "stdout"
        }
      ]
    },
    {
      "cell_type": "markdown",
      "metadata": {
        "id": "y7w5UDILnQi7"
      },
      "source": [
        "**Exercise 7** - Create an empty list and a variable with a value of 4. As long as the value of the variable is less than or equal to 20, add only even values to the list and print the list."
      ]
    },
    {
      "cell_type": "code",
      "metadata": {
        "colab": {
          "base_uri": "https://localhost:8080/"
        },
        "id": "u26Qev-vnQz9",
        "outputId": "0fc9bb98-6903-48ad-caa8-024b9dfce081"
      },
      "source": [
        "li = []\n",
        "va = 4\n",
        "\n",
        "while va <= 20:\n",
        "  li.append(va)\n",
        "  va += 2\n",
        "\n",
        "print(li)"
      ],
      "execution_count": 11,
      "outputs": [
        {
          "output_type": "stream",
          "text": [
            "[4, 6, 8, 10, 12, 14, 16, 18, 20]\n"
          ],
          "name": "stdout"
        }
      ]
    },
    {
      "cell_type": "markdown",
      "metadata": {
        "id": "Eqbd9xvpq0MJ"
      },
      "source": [
        "**Exercise 8** - Transform the result of this function -> range(5, 45, 2) into a list."
      ]
    },
    {
      "cell_type": "code",
      "metadata": {
        "colab": {
          "base_uri": "https://localhost:8080/"
        },
        "id": "wHE2Dj2Nq0bg",
        "outputId": "f98c51f7-ff20-41e1-c141-ff176afb0e6d"
      },
      "source": [
        "num = range(5, 45, 2)\n",
        "print(list(num))"
      ],
      "execution_count": 16,
      "outputs": [
        {
          "output_type": "stream",
          "text": [
            "[5, 7, 9, 11, 13, 15, 17, 19, 21, 23, 25, 27, 29, 31, 33, 35, 37, 39, 41, 43]\n"
          ],
          "name": "stdout"
        }
      ]
    },
    {
      "cell_type": "markdown",
      "metadata": {
        "id": "faDQbl6nuP8V"
      },
      "source": [
        "**Exercise 9** - Correct the errors in the code below and run the program. Tip: there are 3 errors.\n",
        "\n",
        "temperature = float (input('What is the temperature? '))  \n",
        "if temperature > 30  \n",
        "print ('Wear light clothes.')  \n",
        "else  \n",
        "     print ('Get your coats.')  "
      ]
    },
    {
      "cell_type": "code",
      "metadata": {
        "colab": {
          "base_uri": "https://localhost:8080/"
        },
        "id": "NiCB7mX4uQLl",
        "outputId": "19adb50d-b7e4-477f-b750-8ba7d8707551"
      },
      "source": [
        "temperature = float(input('What is the temperature? '))\n",
        "if temperature > 30:\n",
        "  print ('Wear light clothes.')\n",
        "else:\n",
        "  print ('Get your coats.')"
      ],
      "execution_count": 19,
      "outputs": [
        {
          "output_type": "stream",
          "text": [
            "What is the temperature? 34\n",
            "Wear light clothes.\n"
          ],
          "name": "stdout"
        }
      ]
    },
    {
      "cell_type": "markdown",
      "metadata": {
        "id": "LI6rg8Fc8iJk"
      },
      "source": [
        "**Exercise 10** - Make a program that counts how many times the letter \"r\" appears in the sentence below. Use a placeholder in your printing instruction."
      ]
    },
    {
      "cell_type": "code",
      "metadata": {
        "colab": {
          "base_uri": "https://localhost:8080/"
        },
        "id": "qYLxDcOY8iW-",
        "outputId": "6d6a2148-4789-4cde-ae22-aef93fcd6460"
      },
      "source": [
        "phrase = \"\"\"It is better, much better, to be content with reality; if it is not\n",
        "as bright as dreams, it has at least the advantage of existing.\"\"\"\n",
        "\n",
        "cl = 0\n",
        "for i in phrase:\n",
        "  if i == \"r\":\n",
        "    cl += 1\n",
        "\n",
        "print(\"%s occurrences of the letter 'x' were found in the phrase.\" %(cl))"
      ],
      "execution_count": 23,
      "outputs": [
        {
          "output_type": "stream",
          "text": [
            "5 occurrences of the letter 'x' were found in the phrase.\n"
          ],
          "name": "stdout"
        }
      ]
    }
  ]
}